{
 "cells": [
  {
   "cell_type": "markdown",
   "id": "6754deb8",
   "metadata": {},
   "source": [
    "## Connected Component Analysis"
   ]
  },
  {
   "cell_type": "code",
   "execution_count": 1,
   "id": "87408cec",
   "metadata": {},
   "outputs": [
    {
     "data": {
      "image/png": "[encoded data removed]",
      "text/plain": [
       "<Figure size 432x288 with 3 Axes>"
      ]
     },
     "metadata": {
      "needs_background": "light"
     },
     "output_type": "display_data"
    }
   ],
   "source": [
    "import cv2 as cv\n",
    "import numpy as np\n",
    "import matplotlib.pyplot as plt\n",
    "\n",
    "hexnut_template = cv.imread('hexnut_template.png', cv.IMREAD_COLOR)\n",
    "squarenut_template =  cv.imread('squarenut_template.png', cv.IMREAD_COLOR)\n",
    "conveyor_f100 =  cv.imread('conveyor_f100.png', cv.IMREAD_COLOR)\n",
    "\n",
    "fig, ax = plt. subplots(1,3)\n",
    "ax[0].imshow(cv.cvtColor(hexnut_template, cv.COLOR_RGB2BGR))\n",
    "ax[1].imshow(cv.cvtColor(squarenut_template, cv.COLOR_RGB2BGR))\n",
    "ax[2].imshow(cv.cvtColor(conveyor_f100, cv.COLOR_RGB2BGR))\n",
    "plt.show()"
   ]
  },
  {
   "cell_type": "markdown",
   "id": "84f77deb",
   "metadata": {},
   "source": [
    "### Otsu's thresholding"
   ]
  },
  {
   "cell_type": "code",
   "execution_count": 15,
   "id": "ed44df5c",
   "metadata": {},
   "outputs": [
    {
     "name": "stdout",
     "output_type": "stream",
     "text": [
      "Threshold value for hexnut template: 20.0\n",
      "Threshold value for squarenut template: 20.0\n",
      "Threshold value for conveyor belt: 20.0\n"
     ]
    }
   ],
   "source": [
    "hexnut_gray = cv.cvtColor(hexnut_template, cv.COLOR_BGR2GRAY)\n",
    "squarenut_gray=cv.cvtColor(squarenut_template, cv.COLOR_BGR2GRAY)\n",
    "conveyor_gray=cv.cvtColor(conveyor_f100, cv.COLOR_BGR2GRAY)\n",
    "\n",
    "th1,hext = cv.threshold(hexnut_gray,0,255,cv.THRESH_BINARY+cv.THRESH_OTSU)\n",
    "th2,squaret = cv.threshold(squarenut_gray,0,255,cv.THRESH_BINARY+cv.THRESH_OTSU)\n",
    "th3,belt = cv.threshold(conveyor_gray,0,255,cv.THRESH_BINARY+cv.THRESH_OTSU)\n",
    "\n",
    "print('Threshold value for hexnut template:',th1)\n",
    "print('Threshold value for squarenut template:',th2)\n",
    "print('Threshold value for conveyor belt:',th3)"
   ]
  },
  {
   "cell_type": "code",
   "execution_count": 16,
   "id": "df2acca8",
   "metadata": {},
   "outputs": [
    {
     "data": {
      "image/png": "[encoded data removed]",
      "text/plain": [
       "<Figure size 432x288 with 3 Axes>"
      ]
     },
     "metadata": {
      "needs_background": "light"
     },
     "output_type": "display_data"
    }
   ],
   "source": [
    "fig,ax=plt.subplots(1,3)\n",
    "ax[0].imshow(hext)\n",
    "ax[0].axis('off')\n",
    "ax[1].imshow(squaret)\n",
    "ax[1].axis('off')\n",
    "ax[2].imshow(belt)\n",
    "ax[2].axis('off')\n",
    "plt.show()"
   ]
  },
  {
   "cell_type": "markdown",
   "id": "76261f7a",
   "metadata": {},
   "source": [
    "### Morphological closing"
   ]
  },
  {
   "cell_type": "code",
   "execution_count": 17,
   "id": "89788270",
   "metadata": {},
   "outputs": [],
   "source": [
    "kernel = np.ones((3,3),np.uint8)\n",
    "hex_closing = cv.morphologyEx(hext, cv.MORPH_CLOSE, kernel)\n",
    "square_closing = cv.morphologyEx(squaret, cv.MORPH_CLOSE, kernel)\n",
    "belt_closing = cv.morphologyEx(belt, cv.MORPH_CLOSE, kernel)"
   ]
  },
  {
   "cell_type": "code",
   "execution_count": 18,
   "id": "879dc2b1",
   "metadata": {},
   "outputs": [
    {
     "data": {
      "image/png": "[encoded data removed]",
      "text/plain": [
       "<Figure size 432x288 with 3 Axes>"
      ]
     },
     "metadata": {
      "needs_background": "light"
     },
     "output_type": "display_data"
    }
   ],
   "source": [
    "fig,ax=plt.subplots(1,3)\n",
    "ax[0].imshow(hex_closing)\n",
    "ax[0].axis('off')\n",
    "ax[1].imshow(square_closing)\n",
    "ax[1].axis('off')\n",
    "ax[2].imshow(belt_closing)\n",
    "ax[2].axis('off')\n",
    "plt.show()"
   ]
  },
  {
   "cell_type": "markdown",
   "id": "5a81fc7e",
   "metadata": {},
   "source": [
    "### Connected components analysis for Hexnut template"
   ]
  },
  {
   "cell_type": "code",
   "execution_count": 24,
   "id": "d871268e",
   "metadata": {},
   "outputs": [
    {
     "name": "stdout",
     "output_type": "stream",
     "text": [
      "There are 3 connected components in Hexnut template.\n",
      "Statistics:\n",
      "[[  10   16  101   88 4724]\n",
      " [   0    0  120  120 7715]\n",
      " [  35   35   51   51 1961]]\n",
      "\n",
      "Centroids:\n",
      "[[59.83361558 59.22290432]\n",
      " [59.16863253 59.54257939]\n",
      " [60.         60.        ]]\n"
     ]
    }
   ],
   "source": [
    "connectivity = 4\n",
    "hex_num_labels,hex_labels,hex_stat,hex_cent = cv.connectedComponentsWithStats(hext, connectivity, cv.CV_32S)\n",
    "print('There are {} connected components in Hexnut template.'.format(hex_num_labels))\n",
    "print('Statistics:')\n",
    "print(hex_stat)\n",
    "print()\n",
    "print('Centroids:')\n",
    "print(hex_cent)"
   ]
  },
  {
   "cell_type": "code",
   "execution_count": 30,
   "id": "cd71c8b9",
   "metadata": {},
   "outputs": [
    {
     "data": {
      "image/png": "[encoded data removed]",
      "text/plain": [
       "<Figure size 432x288 with 3 Axes>"
      ]
     },
     "metadata": {
      "needs_background": "light"
     },
     "output_type": "display_data"
    }
   ],
   "source": [
    "fig,ax=plt.subplots(1,3)\n",
    "ax[0].imshow(hex_labels)\n",
    "ax[0].axis('off')\n",
    "ax[1].imshow(square_closing)\n",
    "ax[1].axis('off')\n",
    "ax[2].imshow(belt_closing)\n",
    "ax[2].axis('off')\n",
    "plt.show()"
   ]
  },
  {
   "cell_type": "code",
   "execution_count": null,
   "id": "db680ceb",
   "metadata": {},
   "outputs": [],
   "source": []
  }
 ],
 "metadata": {
  "kernelspec": {
   "display_name": "Python 3 (ipykernel)",
   "language": "python",
   "name": "python3"
  },
  "language_info": {
   "codemirror_mode": {
    "name": "ipython",
    "version": 3
   },
   "file_extension": ".py",
   "mimetype": "text/x-python",
   "name": "python",
   "nbconvert_exporter": "python",
   "pygments_lexer": "ipython3",
   "version": "3.9.7"
  }
 },
 "nbformat": 4,
 "nbformat_minor": 5
}
