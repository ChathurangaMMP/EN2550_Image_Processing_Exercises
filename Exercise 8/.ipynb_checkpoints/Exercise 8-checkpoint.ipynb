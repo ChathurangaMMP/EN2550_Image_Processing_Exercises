{
 "cells": [
  {
   "cell_type": "code",
   "execution_count": 4,
   "id": "7e3fa64c",
   "metadata": {},
   "outputs": [
    {
     "name": "stdout",
     "output_type": "stream",
     "text": [
      "[[1.5204e+03 0.0000e+00 3.0232e+02]\n",
      " [0.0000e+00 1.5259e+03 2.4687e+02]\n",
      " [0.0000e+00 0.0000e+00 1.0000e+00]]\n"
     ]
    }
   ],
   "source": [
    "import numpy as np\n",
    "f=open(r'templeSparseRing/templeSR_par.txt','r')\n",
    "assert f is not None\n",
    "\n",
    "# Reading the information on the first image\n",
    "n=int(f.readline())\n",
    "l=f.readline().split()\n",
    "im1_fn=l[0]\n",
    "K1=np.array([float(i) for i in l[1:10]]).reshape((3,3))\n",
    "R1=np.array([float(i) for i in l[10:19]]).reshape((3,3))\n",
    "t=np.array([float(i) for i in l[19:22]]).reshape((3,1))\n"
   ]
  },
  {
   "cell_type": "code",
   "execution_count": null,
   "id": "58e5a6b9",
   "metadata": {},
   "outputs": [],
   "source": []
  }
 ],
 "metadata": {
  "kernelspec": {
   "display_name": "Python 3 (ipykernel)",
   "language": "python",
   "name": "python3"
  },
  "language_info": {
   "codemirror_mode": {
    "name": "ipython",
    "version": 3
   },
   "file_extension": ".py",
   "mimetype": "text/x-python",
   "name": "python",
   "nbconvert_exporter": "python",
   "pygments_lexer": "ipython3",
   "version": "3.9.7"
  }
 },
 "nbformat": 4,
 "nbformat_minor": 5
}
