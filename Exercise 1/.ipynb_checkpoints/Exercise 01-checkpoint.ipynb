{
 "cells": [
  {
   "cell_type": "markdown",
   "metadata": {},
   "source": [
    "### Name: Chathuranga M.M.P.\n",
    "### Index Number: 190108X\n",
    "### Exercise 01"
   ]
  },
  {
   "cell_type": "markdown",
   "metadata": {},
   "source": [
    "#### Question 1"
   ]
  },
  {
   "cell_type": "code",
   "execution_count": 2,
   "metadata": {},
   "outputs": [
    {
     "name": "stdout",
     "output_type": "stream",
     "text": [
      "1 : 1\n",
      "2 : 4\n",
      "3 : 9\n",
      "4 : 16\n",
      "5 : 25\n"
     ]
    }
   ],
   "source": [
    "for i in range(1,6):\n",
    "    print(i,':',i**2)"
   ]
  },
  {
   "cell_type": "markdown",
   "metadata": {},
   "source": [
    "#### Question 2"
   ]
  },
  {
   "cell_type": "code",
   "execution_count": 3,
   "metadata": {},
   "outputs": [
    {
     "name": "stdout",
     "output_type": "stream",
     "text": [
      "1 : 1\n",
      "4 : 16\n"
     ]
    }
   ],
   "source": [
    "from sympy import *\n",
    "for i in range(1,6):\n",
    "    if not(isprime(i)):\n",
    "        print(i,':',i**2)"
   ]
  },
  {
   "cell_type": "markdown",
   "metadata": {},
   "source": [
    "#### Question 3"
   ]
  },
  {
   "cell_type": "code",
   "execution_count": 4,
   "metadata": {},
   "outputs": [
    {
     "name": "stdout",
     "output_type": "stream",
     "text": [
      "1 : 1\n",
      "4 : 16\n"
     ]
    }
   ],
   "source": [
    "from sympy import *\n",
    "squares=[(i,i**2) for i in range(1,6) if not(isprime(i))]\n",
    "for j in squares:\n",
    "    print(j[0],':',j[1])"
   ]
  },
  {
   "cell_type": "markdown",
   "metadata": {},
   "source": [
    "#### Question 5 (a)"
   ]
  },
  {
   "cell_type": "code",
   "execution_count": 5,
   "metadata": {},
   "outputs": [
    {
     "data": {
      "text/plain": [
       "matrix([[ 9, 12, 15,  9],\n",
       "        [25, 32, 39, 19],\n",
       "        [41, 52, 63, 29]])"
      ]
     },
     "execution_count": 5,
     "metadata": {},
     "output_type": "execute_result"
    }
   ],
   "source": [
    "import numpy as np\n",
    "\n",
    "N=np.matrix('1 2;3 4;5 6')\n",
    "M=np.matrix('7 8 9 1;1 2 3 4')\n",
    "C=np.matmul(N,M)\n",
    "C"
   ]
  },
  {
   "cell_type": "markdown",
   "metadata": {},
   "source": [
    "#### Question 5 (b)"
   ]
  },
  {
   "cell_type": "code",
   "execution_count": 6,
   "metadata": {},
   "outputs": [
    {
     "data": {
      "text/plain": [
       "matrix([[ 3,  4],\n",
       "        [15, 16],\n",
       "        [15,  6]])"
      ]
     },
     "execution_count": 6,
     "metadata": {},
     "output_type": "execute_result"
    }
   ],
   "source": [
    "A=N\n",
    "B=np.matrix('3 2;5 4;3 1')\n",
    "D=np.multiply(A,B)\n",
    "D"
   ]
  },
  {
   "cell_type": "markdown",
   "metadata": {},
   "source": [
    "#### Question 6"
   ]
  },
  {
   "cell_type": "code",
   "execution_count": 20,
   "metadata": {},
   "outputs": [
    {
     "name": "stdout",
     "output_type": "stream",
     "text": [
      "Array [[ 8  4  1  7  9  4  4]\n",
      " [ 9  0  0  4  1  1  1]\n",
      " [ 0  7  9 10  9 10  3]\n",
      " [ 0  9  0  3  2  0  5]\n",
      " [ 8  7  1  3  6 10 10]]\n",
      "Extracted array [[9 0]\n",
      " [0 7]]\n",
      "Size (2, 2)\n"
     ]
    }
   ],
   "source": [
    "array = np.random.randint(0,11,size=(5,7))\n",
    "print('Array',array)\n",
    "extracted=array[1:3,[0,1]]\n",
    "print('Extracted array',extracted)\n",
    "print('Size',np.shape(extracted))"
   ]
  },
  {
   "cell_type": "markdown",
   "metadata": {},
   "source": [
    "#### Question 7"
   ]
  },
  {
   "cell_type": "code",
   "execution_count": 8,
   "metadata": {},
   "outputs": [
    {
     "name": "stdout",
     "output_type": "stream",
     "text": [
      "[[3 9 0]\n",
      " [8 4 2]\n",
      " [4 0 9]\n",
      " [7 7 4]\n",
      " [1 1 7]] \n",
      "\n",
      "[[9 9 0]] \n",
      "\n",
      "[[12 18  0]\n",
      " [17 13  2]\n",
      " [13  9  9]\n",
      " [16 16  4]\n",
      " [10 10  7]]\n"
     ]
    }
   ],
   "source": [
    "arr_1=np.random.randint(0,10,size=(5,3))\n",
    "arr_2=np.random.randint(0,10,size=(1,3))\n",
    "\n",
    "print(arr_1,'\\n')\n",
    "print(arr_2,'\\n')\n",
    "\n",
    "arr_3=arr_1+arr_2\n",
    "print(arr_3)"
   ]
  },
  {
   "cell_type": "code",
   "execution_count": 11,
   "metadata": {},
   "outputs": [
    {
     "name": "stdout",
     "output_type": "stream",
     "text": [
      "[[6 6 2]\n",
      " [3 2 3]\n",
      " [8 1 1]\n",
      " [6 3 1]\n",
      " [2 7 9]] \n",
      "\n",
      "[1 9 5 3 3 4 1 6 6 1 9 8 5 2 4] \n",
      "\n",
      "[[ 6 54 10]\n",
      " [ 9  6 12]\n",
      " [ 8  6  6]\n",
      " [ 6 27  8]\n",
      " [10 14 36]]\n"
     ]
    }
   ],
   "source": [
    "arr_1=np.random.randint(0,10,size=(5,3))\n",
    "arr_2=np.random.randint(0,10,size=(15,))\n",
    "\n",
    "print(arr_1,'\\n')\n",
    "print(arr_2,'\\n')\n",
    "\n",
    "arr_3=arr_1*arr_2.reshape((5,3))\n",
    "\n",
    "print(arr_3)"
   ]
  },
  {
   "cell_type": "code",
   "execution_count": 14,
   "metadata": {},
   "outputs": [
    {
     "name": "stdout",
     "output_type": "stream",
     "text": [
      "[[4 0]\n",
      " [5 1]\n",
      " [7 5]\n",
      " [8 5]\n",
      " [8 4]] \n",
      "\n",
      "[[5 0]] \n",
      "\n",
      "[[7 5]\n",
      " [8 4]] \n",
      "\n",
      "[[2 5]\n",
      " [3 4]]\n"
     ]
    }
   ],
   "source": [
    "arr_1=np.random.randint(0,10,size=(5,2))\n",
    "arr_2=np.random.randint(0,10,size=(1,2))\n",
    "\n",
    "print(arr_1,'\\n')\n",
    "print(arr_2,'\\n')\n",
    "arr_3=arr_1[[2,4],:]\n",
    "print(arr_3,'\\n')\n",
    "\n",
    "print(arr_3-arr_2)"
   ]
  },
  {
   "cell_type": "markdown",
   "metadata": {},
   "source": [
    "#### Question 8"
   ]
  },
  {
   "cell_type": "code",
   "execution_count": 99,
   "metadata": {},
   "outputs": [
    {
     "data": {
      "text/plain": [
       "array([[-6.32020659],\n",
       "       [ 2.87346949]])"
      ]
     },
     "execution_count": 99,
     "metadata": {},
     "output_type": "execute_result"
    },
    {
     "data": {
      "image/png": "[encoded data removed]",
      "text/plain": [
       "<Figure size 432x288 with 1 Axes>"
      ]
     },
     "metadata": {
      "needs_background": "light"
     },
     "output_type": "display_data"
    }
   ],
   "source": [
    "import matplotlib.pyplot as plt\n",
    "import numpy as np\n",
    "\n",
    "m,c = 2,-4 \n",
    "N = 10 \n",
    "x = np.linspace(0,N-1,N).reshape(N, 1) \n",
    "sigma = 10 \n",
    "y = m*x + c + np.random.normal(0,sigma,(N, 1 ))\n",
    "X=np.append(np.ones((N,1)),x,axis=1)\n",
    "\n",
    "plt.plot(x,y)\n",
    "\n",
    "ans=np.linalg.inv(X.T @ X) @ X.T @ y\n",
    "ans"
   ]
  },
  {
   "cell_type": "markdown",
   "metadata": {},
   "source": [
    "#### Question 9"
   ]
  },
  {
   "cell_type": "code",
   "execution_count": 45,
   "metadata": {},
   "outputs": [
    {
     "name": "stdout",
     "output_type": "stream",
     "text": [
      "8.00443\n",
      "8.6875\n",
      "10.14893\n",
      "99.25784\n"
     ]
    }
   ],
   "source": [
    "\n",
    "\n",
    "def sqrt_estimate(num,pres):\n",
    "    if num>=1 and num<=100:\n",
    "        x=(-190/(num+20)+10)*10**0\n",
    "        ans=0.5*(x+num/x)\n",
    "        return round(ans,pres)\n",
    "    else:\n",
    "        x=(-190/120+10)*10**0\n",
    "        ans=0.5*(x+num/x)\n",
    "        return round(ans,pres)\n",
    "    \n",
    "print(sqrt_estimate(64,5))\n",
    "print(sqrt_estimate(75,5))\n",
    "print(sqrt_estimate(100,5))\n",
    "print(sqrt_estimate(1600,5))"
   ]
  },
  {
   "cell_type": "markdown",
   "metadata": {},
   "source": [
    "#### Question 10"
   ]
  },
  {
   "cell_type": "code",
   "execution_count": 100,
   "metadata": {},
   "outputs": [],
   "source": [
    "import cv2 as cv\n",
    "\n",
    "img=cv.imread('gal_gaussian.png')\n",
    "\n",
    "blur = cv.GaussianBlur(img,(5,5),0)\n",
    "\n",
    "cv.namedWindow('Image',cv.WINDOW_AUTOSIZE)\n",
    "cv.imshow('Image',img)\n",
    "cv.waitKey(0)\n",
    "cv.imshow('Image',blur)\n",
    "cv.waitKey(0)\n",
    "cv.destroyAllWindows()"
   ]
  },
  {
   "cell_type": "markdown",
   "metadata": {},
   "source": [
    "#### Question 11"
   ]
  },
  {
   "cell_type": "code",
   "execution_count": 92,
   "metadata": {},
   "outputs": [],
   "source": [
    "import cv2 as cv\n",
    "\n",
    "img=cv.imread('gal_sandp.png')\n",
    "fimg=cv.medianBlur(img, 3)\n",
    "\n",
    "cv.namedWindow('Image',cv.WINDOW_AUTOSIZE)\n",
    "cv.imshow('Image',fimg)\n",
    "cv.waitKey(0)\n",
    "cv.destroyAllWindows()"
   ]
  },
  {
   "cell_type": "markdown",
   "metadata": {},
   "source": [
    "#### Question 12"
   ]
  },
  {
   "cell_type": "code",
   "execution_count": 116,
   "metadata": {},
   "outputs": [
    {
     "data": {
      "image/png": "[encoded data removed]",
      "text/plain": [
       "<Figure size 432x288 with 1 Axes>"
      ]
     },
     "metadata": {
      "needs_background": "light"
     },
     "output_type": "display_data"
    }
   ],
   "source": [
    "import numpy as np\n",
    "import cv2 as cv\n",
    "import matplotlib.pyplot as plt\n",
    "\n",
    "img=np.zeros((40,60),dtype=np.uint8)\n",
    "img[0:21,30:61]=125\n",
    "\n",
    "fig,ax=plt.subplots()\n",
    "\n",
    "ax.imshow(img,cmap='gray',vmin=0,vmax=255)\n",
    "plt.show()"
   ]
  },
  {
   "cell_type": "markdown",
   "metadata": {},
   "source": [
    "#### Question 13"
   ]
  },
  {
   "cell_type": "code",
   "execution_count": 160,
   "metadata": {},
   "outputs": [
    {
     "data": {
      "image/png": "[encoded data removed]",
      "text/plain": [
       "<Figure size 432x288 with 1 Axes>"
      ]
     },
     "metadata": {
      "needs_background": "light"
     },
     "output_type": "display_data"
    }
   ],
   "source": [
    "import numpy as np\n",
    "import cv2 as cv\n",
    "import matplotlib.pyplot as plt\n",
    "\n",
    "img=np.random.randint(0,255,size=(1,7200)).reshape((2400,3)).tolist()\n",
    "newimg=[]\n",
    "for i in range(1,41):\n",
    "    newimg.append(img[(i-1)*60:i*60])\n",
    "\n",
    "for r in range(20,40):\n",
    "    for c in range(30):\n",
    "        newimg[r][c]=[218,24,132]\n",
    "\n",
    "fig,ax=plt.subplots()\n",
    "\n",
    "ax.imshow(newimg)\n",
    "plt.show()"
   ]
  },
  {
   "cell_type": "markdown",
   "metadata": {},
   "source": [
    "#### Question 14"
   ]
  },
  {
   "cell_type": "code",
   "execution_count": 21,
   "metadata": {},
   "outputs": [],
   "source": [
    "import cv2 as cv\n",
    "\n",
    "img=cv.imread('tom_dark.jpg')\n",
    "fimg=cv.convertScaleAbs(img, alpha=2, beta=40)\n",
    "\n",
    "cv.namedWindow('Image',cv.WINDOW_AUTOSIZE)\n",
    "cv.imshow('Image',fimg)\n",
    "cv.waitKey(0)\n",
    "cv.destroyAllWindows()"
   ]
  }
 ],
 "metadata": {
  "kernelspec": {
   "display_name": "Python 3",
   "language": "python",
   "name": "python3"
  },
  "language_info": {
   "codemirror_mode": {
    "name": "ipython",
    "version": 3
   },
   "file_extension": ".py",
   "mimetype": "text/x-python",
   "name": "python",
   "nbconvert_exporter": "python",
   "pygments_lexer": "ipython3",
   "version": "3.8.5"
  }
 },
 "nbformat": 4,
 "nbformat_minor": 4
}
