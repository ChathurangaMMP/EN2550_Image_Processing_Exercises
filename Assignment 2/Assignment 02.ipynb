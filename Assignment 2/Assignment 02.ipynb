{
 "cells": [
  {
   "cell_type": "code",
   "execution_count": 3,
   "id": "4ef729d3",
   "metadata": {},
   "outputs": [
    {
     "data": {
      "image/png": "[encoded data removed]",
      "text/plain": [
       "<Figure size 720x720 with 1 Axes>"
      ]
     },
     "metadata": {
      "needs_background": "light"
     },
     "output_type": "display_data"
    }
   ],
   "source": [
    "import numpy as np \n",
    "from scipy.optimize import minimize \n",
    "from scipy import linalg \n",
    "import matplotlib.pyplot as plt\n",
    "import random\n",
    "%matplotlib inline\n",
    "\n",
    "# np.random.seed(0) \n",
    "N = 100 \n",
    "half_n = N//2 \n",
    "r = 10 \n",
    "s = r/16 \n",
    "t = np.random.uniform(0, 2*np.pi, half_n) \n",
    "n = s*np.random.randn(half_n) \n",
    "x1 , y1 = (r + n)*np.cos(t), (r + n)*np.sin(t) \n",
    "X_circ = np.hstack((x1.reshape(half_n, 1) , y1.reshape(half_n , 1))) \n",
    "\n",
    "m, b = -1, 2 \n",
    "x2 = np.linspace(-12, 12 , half_n) \n",
    "y2 = m*x2 + b + s*np.random.randn(half_n) \n",
    "X_line = np.hstack((x2.reshape(half_n , 1) , y2.reshape(half_n , 1))) \n",
    "X = np.vstack((X_circ , X_line))\n",
    "y=y1 + y2\n",
    "\n",
    "fig,ax=plt.subplots(figsize=(10,10))\n",
    "ax.scatter(X[:,0],X[:,1])\n",
    "plt.show()"
   ]
  },
  {
   "cell_type": "code",
   "execution_count": 2,
   "id": "d11df03a",
   "metadata": {},
   "outputs": [],
   "source": [
    "class RANSAC:\n",
    "    def __init__(self,x_data,y_data,min_samples,dis_thres,num_samps):\n",
    "        self.x_data=x_data\n",
    "        self.y_data=y_data\n",
    "        self.s=min_samples\n",
    "        self.t=dis_thres\n",
    "        self.N=num_samps\n",
    "        self.best_model=None\n",
    "        self.inliers=None\n",
    "        self.outliers=None\n",
    "        self.points=[]\n",
    "\n",
    "    def distance(self,p1,p2):\n",
    "        return ((p1[0]-p2[0])**2+(p1[1]-p2[1])**2)**0.5\n",
    "\n",
    "    def random_sample(self):\n",
    "        self.points=[]\n",
    "        i=0\n",
    "        while i<self.s:\n",
    "            ind=random.randint(0,len(self.x_data)-1)\n",
    "            pnt=(self.x_data[ind],self.y_data[ind])\n",
    "            if pnt not in self.points:\n",
    "                self.points.append(pnt)\n",
    "                i+=1\n",
    "\n",
    "    \n",
    "\n",
    "    \n",
    "    "
   ]
  },
  {
   "cell_type": "code",
   "execution_count": null,
   "id": "f69655e7",
   "metadata": {},
   "outputs": [],
   "source": []
  },
  {
   "cell_type": "code",
   "execution_count": null,
   "id": "3988b8d7",
   "metadata": {},
   "outputs": [],
   "source": []
  },
  {
   "cell_type": "code",
   "execution_count": null,
   "id": "7c76a6bf",
   "metadata": {},
   "outputs": [],
   "source": []
  },
  {
   "cell_type": "code",
   "execution_count": null,
   "id": "ef08e5dc",
   "metadata": {},
   "outputs": [],
   "source": []
  },
  {
   "cell_type": "code",
   "execution_count": null,
   "id": "4f7e327b",
   "metadata": {},
   "outputs": [],
   "source": []
  }
 ],
 "metadata": {
  "interpreter": {
   "hash": "7ef0d091db3c93dafc93c78dceba3aae5b508bf920a21e8b6a519a1a9d6b69a6"
  },
  "kernelspec": {
   "display_name": "Python 3.9.7 64-bit ('base': conda)",
   "name": "python3"
  },
  "language_info": {
   "codemirror_mode": {
    "name": "ipython",
    "version": 3
   },
   "file_extension": ".py",
   "mimetype": "text/x-python",
   "name": "python",
   "nbconvert_exporter": "python",
   "pygments_lexer": "ipython3",
   "version": "3.9.7"
  }
 },
 "nbformat": 4,
 "nbformat_minor": 5
}
